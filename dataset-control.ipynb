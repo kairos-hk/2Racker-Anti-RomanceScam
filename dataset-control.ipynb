{
 "cells": [
  {
   "cell_type": "code",
   "execution_count": 1,
   "id": "e32d326a-68d4-46c2-a6e2-742c86cd0acc",
   "metadata": {},
   "outputs": [
    {
     "name": "stdout",
     "output_type": "stream",
     "text": [
      "'set_processed.csv'로 저장됨\n"
     ]
    },
    {
     "name": "stderr",
     "output_type": "stream",
     "text": [
      "/tmp/ipykernel_396000/1123182734.py:8: FutureWarning: Setting an item of incompatible dtype is deprecated and will raise an error in a future version of pandas. Value '' has dtype incompatible with float64, please explicitly cast to a compatible dtype first.\n",
      "  df.fillna(\"\", inplace=True)\n"
     ]
    }
   ],
   "source": [
    "import pandas as pd\n",
    "\n",
    "input_csv = \"set_original.csv\"\n",
    "output_csv = \"set_processed.csv\"\n",
    "\n",
    "df = pd.read_csv(input_csv)\n",
    "\n",
    "df.fillna(\"\", inplace=True)\n",
    "\n",
    "conv_columns = [f\"conv{i}\" for i in range(1, 14)]\n",
    "df[\"text\"] = df[conv_columns].apply(lambda row: \" [SEP] \".join([str(cell).strip() for cell in row if cell.strip() != \"\"]), axis=1)\n",
    "\n",
    "df[\"label\"] = df[\"classification\"].apply(lambda x: 1 if str(x).strip().lower() == \"yes\" else 0)\n",
    "\n",
    "df_final = df[[\"text\", \"label\"]]\n",
    "\n",
    "df_final.to_csv(output_csv, index=False, encoding=\"utf-8-sig\")\n",
    "\n",
    "print(f\"'{output_csv}'로 저장됨\")\n"
   ]
  },
  {
   "cell_type": "code",
   "execution_count": null,
   "id": "1c01ba56-7b7a-447c-9e27-351039474c08",
   "metadata": {},
   "outputs": [],
   "source": [
    "import pandas as pd\n",
    "\n",
    "input_csv = \"set_original_good.csv\"\n",
    "output_csv = \"set_processed_good.csv\"\n",
    "\n",
    "df = pd.read_csv(input_csv)\n",
    "df.dropna(subset=[\"req\", \"res\"], inplace=True)\n",
    "\n",
    "group_size = 5\n",
    "sequences = []\n",
    "for i in range(0, len(df), group_size):\n",
    "    chunk = df.iloc[i:i+group_size]\n",
    "    if len(chunk) < group_size:\n",
    "        continue\n",
    "    text = \" [SEP] \".join(\n",
    "        chunk.apply(lambda row: f\"{row['req']} [SEP] {row['res']}\", axis=1)\n",
    "    )\n",
    "    sequences.append({\n",
    "        \"text\": text,\n",
    "        \"label\": 0\n",
    "    })\n",
    "\n",
    "result_df = pd.DataFrame(sequences)\n",
    "result_df.to_csv(output_csv, index=False, encoding=\"utf-8-sig\")\n"
   ]
  }
 ],
 "metadata": {
  "kernelspec": {
   "display_name": "Python 3 (ipykernel)",
   "language": "python",
   "name": "python3"
  },
  "language_info": {
   "codemirror_mode": {
    "name": "ipython",
    "version": 3
   },
   "file_extension": ".py",
   "mimetype": "text/x-python",
   "name": "python",
   "nbconvert_exporter": "python",
   "pygments_lexer": "ipython3",
   "version": "3.11.10"
  }
 },
 "nbformat": 4,
 "nbformat_minor": 5
}
