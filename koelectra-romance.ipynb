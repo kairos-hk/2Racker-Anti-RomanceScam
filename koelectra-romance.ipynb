{
 "cells": [
  {
   "cell_type": "code",
   "execution_count": 1,
   "id": "1bd5f140-d7d0-4bfb-8699-b0e2d8408a6f",
   "metadata": {},
   "outputs": [],
   "source": [
    "from datasets import load_dataset\n",
    "from transformers import AutoTokenizer\n",
    "\n",
    "dataset = load_dataset(\"csv\", data_files=\"final_set.csv\")\n",
    "tokenizer = AutoTokenizer.from_pretrained(\"monologg/koelectra-base-discriminator\")\n",
    "\n",
    "def tokenize_fn(example):\n",
    "    return tokenizer(example[\"text\"], truncation=True, padding=\"max_length\", max_length=512)\n",
    "\n",
    "tokenized_dataset = dataset.map(tokenize_fn, batched=True)\n",
    "tokenized_dataset = tokenized_dataset[\"train\"].train_test_split(test_size=0.2, seed=42)\n"
   ]
  },
  {
   "cell_type": "code",
   "execution_count": 2,
   "id": "4a96fcf4-0561-486a-859d-c6d5d79530ca",
   "metadata": {},
   "outputs": [
    {
     "name": "stderr",
     "output_type": "stream",
     "text": [
      "Some weights of ElectraForSequenceClassification were not initialized from the model checkpoint at monologg/koelectra-base-discriminator and are newly initialized: ['classifier.dense.bias', 'classifier.dense.weight', 'classifier.out_proj.bias', 'classifier.out_proj.weight']\n",
      "You should probably TRAIN this model on a down-stream task to be able to use it for predictions and inference.\n"
     ]
    }
   ],
   "source": [
    "from transformers import AutoModelForSequenceClassification\n",
    "\n",
    "model = AutoModelForSequenceClassification.from_pretrained(\n",
    "    \"monologg/koelectra-base-discriminator\", num_labels=2\n",
    ")"
   ]
  },
  {
   "cell_type": "code",
   "execution_count": 3,
   "id": "4d3cc343-1353-45a7-9cc4-4d035b2aa4f5",
   "metadata": {},
   "outputs": [
    {
     "name": "stderr",
     "output_type": "stream",
     "text": [
      "/tmp/ipykernel_411339/4288223012.py:22: FutureWarning: `tokenizer` is deprecated and will be removed in version 5.0.0 for `Trainer.__init__`. Use `processing_class` instead.\n",
      "  trainer = Trainer(\n"
     ]
    }
   ],
   "source": [
    "from transformers import TrainingArguments, Trainer\n",
    "import numpy as np\n",
    "from sklearn.metrics import precision_recall_fscore_support, accuracy_score\n",
    "\n",
    "def compute_metrics(pred):\n",
    "    labels = pred.label_ids\n",
    "    preds = np.argmax(pred.predictions, axis=1)\n",
    "    precision, recall, f1, _ = precision_recall_fscore_support(labels, preds, average='binary')\n",
    "    acc = accuracy_score(labels, preds)\n",
    "    return {\"accuracy\": acc, \"f1\": f1, \"precision\": precision, \"recall\": recall}\n",
    "\n",
    "training_args = TrainingArguments(\n",
    "    output_dir=\"./koelectra-romance-scam\",\n",
    "    do_train=True,\n",
    "    do_eval=True,\n",
    "    per_device_train_batch_size=12,\n",
    "    per_device_eval_batch_size=12,\n",
    "    num_train_epochs=10,\n",
    "    logging_dir=\"./logs\"\n",
    ")\n",
    "\n",
    "trainer = Trainer(\n",
    "    model=model,\n",
    "    args=training_args,\n",
    "    train_dataset=tokenized_dataset[\"train\"],\n",
    "    eval_dataset=tokenized_dataset[\"test\"],\n",
    "    tokenizer=tokenizer,\n",
    "    compute_metrics=compute_metrics,\n",
    ")\n"
   ]
  },
  {
   "cell_type": "code",
   "execution_count": 4,
   "id": "6d88a1b8-6ef0-4649-b5d6-755ac7a13efe",
   "metadata": {},
   "outputs": [],
   "source": [
    "import torch\n",
    "torch.cuda.empty_cache()\n",
    "torch.cuda.ipc_collect()"
   ]
  },
  {
   "cell_type": "code",
   "execution_count": 5,
   "id": "cf7e1a1c-31cb-4d97-87c6-4f5c5cf0a649",
   "metadata": {},
   "outputs": [
    {
     "data": {
      "text/html": [
       "\n",
       "    <div>\n",
       "      \n",
       "      <progress value='400' max='400' style='width:300px; height:20px; vertical-align: middle;'></progress>\n",
       "      [400/400 07:55, Epoch 10/10]\n",
       "    </div>\n",
       "    <table border=\"1\" class=\"dataframe\">\n",
       "  <thead>\n",
       " <tr style=\"text-align: left;\">\n",
       "      <th>Step</th>\n",
       "      <th>Training Loss</th>\n",
       "    </tr>\n",
       "  </thead>\n",
       "  <tbody>\n",
       "  </tbody>\n",
       "</table><p>"
      ],
      "text/plain": [
       "<IPython.core.display.HTML object>"
      ]
     },
     "metadata": {},
     "output_type": "display_data"
    },
    {
     "data": {
      "text/plain": [
       "TrainOutput(global_step=400, training_loss=0.03800376653671265, metrics={'train_runtime': 476.9078, 'train_samples_per_second': 10.065, 'train_steps_per_second': 0.839, 'total_flos': 1262933065728000.0, 'train_loss': 0.03800376653671265, 'epoch': 10.0})"
      ]
     },
     "execution_count": 5,
     "metadata": {},
     "output_type": "execute_result"
    }
   ],
   "source": [
    "trainer.train()"
   ]
  },
  {
   "cell_type": "code",
   "execution_count": 9,
   "id": "17d30b07-a737-4872-9349-9043a8f827db",
   "metadata": {},
   "outputs": [
    {
     "data": {
      "text/html": [],
      "text/plain": [
       "<IPython.core.display.HTML object>"
      ]
     },
     "metadata": {},
     "output_type": "display_data"
    }
   ],
   "source": [
    "trainer.save_model(\"./koelectra-romance-scam\")\n",
    "tokenizer.save_pretrained(\"./koelectra-romance-scam\")\n",
    "predictions = trainer.predict(tokenized_dataset[\"test\"])\n"
   ]
  },
  {
   "cell_type": "code",
   "execution_count": 10,
   "id": "e26501de-3f0e-4b1c-8a68-685a4e57ab66",
   "metadata": {},
   "outputs": [
    {
     "data": {
      "text/html": [],
      "text/plain": [
       "<IPython.core.display.HTML object>"
      ]
     },
     "metadata": {},
     "output_type": "display_data"
    },
    {
     "name": "stdout",
     "output_type": "stream",
     "text": [
      "              precision    recall  f1-score   support\n",
      "\n",
      "           0     0.9655    1.0000    0.9825        56\n",
      "           1     1.0000    0.9688    0.9841        64\n",
      "\n",
      "    accuracy                         0.9833       120\n",
      "   macro avg     0.9828    0.9844    0.9833       120\n",
      "weighted avg     0.9839    0.9833    0.9833       120\n",
      "\n"
     ]
    }
   ],
   "source": [
    "trainer.evaluate()\n",
    "predictions = trainer.predict(tokenized_dataset[\"test\"])\n",
    "from sklearn.metrics import classification_report\n",
    "labels = predictions.label_ids\n",
    "preds = np.argmax(predictions.predictions, axis=1)\n",
    "print(classification_report(labels, preds, digits=4))"
   ]
  },
  {
   "cell_type": "code",
   "execution_count": null,
   "id": "c5b30357-7b8e-441d-8772-96acfe77d098",
   "metadata": {},
   "outputs": [],
   "source": [
    "from transformers import AutoTokenizer, AutoModelForSequenceClassification\n",
    "import torch\n",
    "import torch.nn.functional as F\n",
    "\n",
    "model_path = \"./koelectra-romance-scam\"\n",
    "tokenizer = AutoTokenizer.from_pretrained(model_path)\n",
    "model = AutoModelForSequenceClassification.from_pretrained(model_path)\n",
    "\n",
    "def predict_romance_scam(text: str):\n",
    "    model.eval()\n",
    "    inputs = tokenizer(text, return_tensors=\"pt\", truncation=True, padding=True, max_length=512)\n",
    "    with torch.no_grad():\n",
    "        outputs = model(**inputs)\n",
    "        probs = F.softmax(outputs.logits, dim=1)\n",
    "        pred = torch.argmax(probs, dim=1).item()\n",
    "    label = \"로맨스 스캠\" if pred == 1 else \"정상 대화\"\n",
    "    return label\n",
    "\n",
    "text = \"\"\"안녕하세요, 저는 미군 장교로 현재 시리아에 파병 중입니다. 우연히 당신의 프로필을 보고 메시지를 보냅니다. \n",
    "너무 인상 깊었습니다. [SEP] 안녕하세요. 시리아에 계시다니, 존경스러워요!!! [SEP] 사실 하나 말씀드릴 게 있어요.\"\"\"\n",
    "label = predict_romance_scam(text)\n",
    "print(f\"예측: {label}\")"
   ]
  },
  {
   "cell_type": "code",
   "execution_count": 35,
   "id": "895eecdd-bc4f-4b0a-9f31-99c42cd54263",
   "metadata": {},
   "outputs": [],
   "source": [
    "from transformers.trainer_callback import TrainerCallback\n",
    "import os\n",
    "import json\n",
    "\n",
    "class LossRecorderCallback(TrainerCallback):\n",
    "    def __init__(self):\n",
    "        self.train_loss = []\n",
    "        self.eval_loss = []\n",
    "\n",
    "    def on_log(self, args, state, control, logs=None, **kwargs):\n",
    "        if \"loss\" in logs:\n",
    "            self.train_loss.append(logs[\"loss\"])\n",
    "        if \"eval_loss\" in logs:\n",
    "            self.eval_loss.append(logs[\"eval_loss\"])\n",
    "\n",
    "loss_recorder = LossRecorderCallback()\n",
    "\n",
    "trainer.add_callback(loss_recorder)\n"
   ]
  }
 ],
 "metadata": {
  "kernelspec": {
   "display_name": "Python 3 (ipykernel)",
   "language": "python",
   "name": "python3"
  },
  "language_info": {
   "codemirror_mode": {
    "name": "ipython",
    "version": 3
   },
   "file_extension": ".py",
   "mimetype": "text/x-python",
   "name": "python",
   "nbconvert_exporter": "python",
   "pygments_lexer": "ipython3",
   "version": "3.11.10"
  }
 },
 "nbformat": 4,
 "nbformat_minor": 5
}
